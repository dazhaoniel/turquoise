{
 "cells": [
  {
   "cell_type": "code",
   "execution_count": 36,
   "id": "5737d778",
   "metadata": {},
   "outputs": [],
   "source": [
    "import numpy as np\n",
    "import tensorflow as tf\n",
    "from tensorflow import keras\n",
    "from tensorflow.keras import layers\n",
    "import pandas as pd\n",
    "import seaborn as sns\n",
    "import matplotlib.pyplot as plt\n",
    "import os\n",
    "import cv2\n",
    "from random import randint\n",
    "\n",
    "from tensorflow.keras.utils import to_categorical\n",
    "from tensorflow.keras.preprocessing.image import load_img, img_to_array, ImageDataGenerator\n",
    "from sklearn.metrics import classification_report, log_loss, accuracy_score\n",
    "from sklearn.model_selection import train_test_split"
   ]
  },
  {
   "cell_type": "code",
   "execution_count": 48,
   "id": "9662de54",
   "metadata": {},
   "outputs": [],
   "source": [
    "# Read the images and labels of gemstones from training data\n",
    "def extract_labels(name):\n",
    "    parts = name.split('/')\n",
    "    train = parts[1]\n",
    "    if 'Fake' in parts[2]:\n",
    "        label = 'fake'\n",
    "    else:\n",
    "        label = 'real'\n",
    "    return train, label\n",
    "    \n",
    "\n",
    "def read_images():\n",
    "    Images = []\n",
    "    for root, dirs, files in os.walk('datasets'):\n",
    "        f = os.path.basename(root)\n",
    "        for file in files:\n",
    "            try:\n",
    "                image = cv2.imread(root+'/'+file)\n",
    "                image = np.array(image)\n",
    "                train, label = extract_labels(root)\n",
    "                Images.append([train, image, label])\n",
    "            except Exception as e:\n",
    "                print(e)\n",
    "    return Images  "
   ]
  },
  {
   "cell_type": "code",
   "execution_count": null,
   "id": "5f767cbe",
   "metadata": {},
   "outputs": [],
   "source": [
    "images = read_images()"
   ]
  }
 ],
 "metadata": {
  "kernelspec": {
   "display_name": "Python 3 (ipykernel)",
   "language": "python",
   "name": "python3"
  },
  "language_info": {
   "codemirror_mode": {
    "name": "ipython",
    "version": 3
   },
   "file_extension": ".py",
   "mimetype": "text/x-python",
   "name": "python",
   "nbconvert_exporter": "python",
   "pygments_lexer": "ipython3",
   "version": "3.11.4"
  }
 },
 "nbformat": 4,
 "nbformat_minor": 5
}
