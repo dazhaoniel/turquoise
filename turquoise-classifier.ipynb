{
 "cells": [
  {
   "cell_type": "code",
   "execution_count": 18,
   "id": "ab55becc",
   "metadata": {},
   "outputs": [],
   "source": [
    "import numpy as np\n",
    "import tensorflow as tf\n",
    "from tensorflow import keras\n",
    "from tensorflow.keras import layers\n",
    "import pandas as pd\n",
    "import seaborn as sns\n",
    "import matplotlib.pyplot as plt\n",
    "# import wget\n",
    "import os\n",
    "import cv2\n",
    "from random import randint\n",
    "\n",
    "from tensorflow.keras.utils import to_categorical\n",
    "from tensorflow.keras.preprocessing.image import load_img, img_to_array, ImageDataGenerator\n",
    "from sklearn.metrics import classification_report, log_loss, accuracy_score\n",
    "from sklearn.model_selection import train_test_split"
   ]
  },
  {
   "cell_type": "code",
   "execution_count": null,
   "id": "7ae1b210",
   "metadata": {},
   "outputs": [],
   "source": [
    "# Read the images and labels of gemstones from training data\n",
    "\n",
    "def read_images():\n",
    "    Images, Labels = [], []\n",
    "    for root, dirs, files in os.walk('dataset/train'):\n",
    "        f = os.path.basename(root) # get class name - Amethyst, Onyx, etc       \n",
    "        for file in files:\n",
    "            Labels.append(f)\n",
    "            try:\n",
    "                image = cv2.imread(root+'/'+file)              # read the image (OpenCV)\n",
    "                image = cv2.resize(image,(int(img_w), int(img_h)))       # resize the image (images are different sizes)\n",
    "                image = cv2.cvtColor(image, cv2.COLOR_BGR2RGB) # converts an image from BGR color space to RGB\n",
    "                Images.append(image)\n",
    "            except Exception as e:\n",
    "                print(e)\n",
    "    Images = np.array(Images)\n",
    "    return (Images,Labels)\n",
    "    \n",
    "def get_class_index(Labels):\n",
    "    for i, n in enumerate(Labels):\n",
    "        for j, k in enumerate(Name):    # foreach CLASSES\n",
    "            if n == k:\n",
    "                Labels[i] = j\n",
    "    Labels = np.array(Labels)\n",
    "    return Labels    "
   ]
  },
  {
   "cell_type": "code",
   "execution_count": null,
   "id": "47e498ec",
   "metadata": {},
   "outputs": [],
   "source": []
  }
 ],
 "metadata": {
  "kernelspec": {
   "display_name": "Python 3 (ipykernel)",
   "language": "python",
   "name": "python3"
  },
  "language_info": {
   "codemirror_mode": {
    "name": "ipython",
    "version": 3
   },
   "file_extension": ".py",
   "mimetype": "text/x-python",
   "name": "python",
   "nbconvert_exporter": "python",
   "pygments_lexer": "ipython3",
   "version": "3.11.4"
  }
 },
 "nbformat": 4,
 "nbformat_minor": 5
}
